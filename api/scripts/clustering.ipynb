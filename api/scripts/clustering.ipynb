{
 "cells": [
  {
   "cell_type": "code",
   "execution_count": 1,
   "id": "ce87fec7",
   "metadata": {},
   "outputs": [],
   "source": [
    "import pandas as pd\n",
    "from sklearn.cluster import KMeans\n",
    "from sklearn.preprocessing import StandardScaler\n",
    "import matplotlib.pyplot as plt\n",
    "import seaborn as sns"
   ]
  },
  {
   "cell_type": "code",
   "execution_count": null,
   "id": "eb8029bf",
   "metadata": {},
   "outputs": [],
   "source": [
    "recipes = pd.read_csv(r\"C:\\Users\\Alaukikk\\Desktop\\FYP\\clean-fyp\\api\\data\\health_categorized_recipes.csv\")"
   ]
  },
  {
   "cell_type": "code",
   "execution_count": 5,
   "id": "9b8c0ced",
   "metadata": {},
   "outputs": [],
   "source": [
    "features = ['calories','fat','carbohydrates','protein','cholesterol','sodium','fiber']\n",
    "recipes_clean = recipes.dropna(subset=features).copy()\n",
    "scaler = StandardScaler()\n",
    "X_scaled = scaler.fit_transform(recipes_clean[features])"
   ]
  },
  {
   "cell_type": "code",
   "execution_count": 7,
   "id": "0980c874",
   "metadata": {},
   "outputs": [],
   "source": [
    "kmeans = KMeans(n_clusters=7, random_state=42)\n",
    "recipes_clean['cluster'] = kmeans.fit_predict(X_scaled)"
   ]
  },
  {
   "cell_type": "code",
   "execution_count": 8,
   "id": "96d0ff58",
   "metadata": {},
   "outputs": [],
   "source": [
    "def get_similar_foods(top5_titles):\n",
    "    clusters = recipes_clean[recipes_clean['recipe_name'].isin(top5_titles)][['recipe_name', 'cluster']]\n",
    "\n",
    "    similar_recs = []\n",
    "    for cluster_id in clusters['cluster'].unique():\n",
    "        similar = recipes_clean[recipes_clean['cluster'] == cluster_id]\n",
    "        similar = similar[~similar['recipe_name'].isin(top5_titles)]\n",
    "        sampled = similar.sample(n=min(3, len(similar)), random_state=42)\n",
    "        similar_recs.extend(sampled.to_dict(orient='records'))\n",
    "\n",
    "    return similar_recs"
   ]
  },
  {
   "cell_type": "code",
   "execution_count": 9,
   "id": "40a98d1f",
   "metadata": {},
   "outputs": [],
   "source": [
    "def plot_clusters():\n",
    "    from sklearn.decomposition import PCA\n",
    "\n",
    "    pca = PCA(n_components=2)\n",
    "    X_pca = pca.fit_transform(X_scaled)\n",
    "    recipes_clean['pca1'] = X_pca[:, 0]\n",
    "    recipes_clean['pca2'] = X_pca[:, 1]\n",
    "\n",
    "    plt.figure(figsize=(10, 6))\n",
    "    sns.scatterplot(data=recipes_clean, x='pca1', y='pca2', hue='cluster', palette='Set2', s=80)\n",
    "    plt.title(\"K-Means Clusters of Recipes (PCA Projection)\")\n",
    "    plt.xlabel(\"PCA 1\")\n",
    "    plt.ylabel(\"PCA 2\")\n",
    "    plt.grid(True)\n",
    "    plt.tight_layout()\n",
    "    plt.show()"
   ]
  }
 ],
 "metadata": {
  "kernelspec": {
   "display_name": "Python 3",
   "language": "python",
   "name": "python3"
  },
  "language_info": {
   "codemirror_mode": {
    "name": "ipython",
    "version": 3
   },
   "file_extension": ".py",
   "mimetype": "text/x-python",
   "name": "python",
   "nbconvert_exporter": "python",
   "pygments_lexer": "ipython3",
   "version": "3.11.0"
  }
 },
 "nbformat": 4,
 "nbformat_minor": 5
}
